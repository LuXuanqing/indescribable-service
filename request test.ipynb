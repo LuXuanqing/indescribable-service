{
 "cells": [
  {
   "cell_type": "code",
   "execution_count": 1,
   "metadata": {},
   "outputs": [],
   "source": [
    "import requests\n",
    "from bs4 import BeautifulSoup\n",
    "import json\n",
    "\n",
    "\n",
    "def get_html(url):\n",
    "    try:\n",
    "        r = requests.get(url)\n",
    "        return r.text\n",
    "    except Exception as err:\n",
    "        print(err)\n",
    "        return ''\n",
    "\n",
    "\n",
    "def get_url(bango):\n",
    "    base_url = 'https://www.javbus6.pw/'\n",
    "    return base_url + bango\n",
    "\n",
    "\n",
    "def get_pics(bango):\n",
    "    url = get_url(bango)\n",
    "    html = get_html(url)\n",
    "    soup = BeautifulSoup(html, 'html5lib')\n",
    "\n",
    "    # 预览图的DOM结构：<a href=full><div><img src=thumb></div></a>\n",
    "    # 预览图的class='sample-box'\n",
    "    samples = soup.find_all(class_='sample-box')\n",
    "\n",
    "    pics = []\n",
    "    for sample in samples:\n",
    "        pic = {}\n",
    "        pic['full'] = sample['href']\n",
    "        pic['thumb'] = sample.find('img')['src']\n",
    "        pics.append(pic)\n",
    "    return pics\n",
    "\n",
    "    "
   ]
  },
  {
   "cell_type": "code",
   "execution_count": 3,
   "metadata": {},
   "outputs": [
    {
     "data": {
      "text/plain": [
       "'https://www.javbus6.pw/KTKZ-022'"
      ]
     },
     "execution_count": 3,
     "metadata": {},
     "output_type": "execute_result"
    }
   ],
   "source": [
    "get_url('KTKZ-022')"
   ]
  },
  {
   "cell_type": "code",
   "execution_count": 5,
   "metadata": {},
   "outputs": [],
   "source": [
    "PICS = get_pics('KTKZ-022')"
   ]
  },
  {
   "cell_type": "code",
   "execution_count": 6,
   "metadata": {},
   "outputs": [
    {
     "data": {
      "text/plain": [
       "[{'full': 'https://pics.dmm.co.jp/digital/video/ktkz00022/ktkz00022jp-1.jpg',\n",
       "  'thumb': 'https://pics.javcdn.pw/sample/6ia4_1.jpg'},\n",
       " {'full': 'https://pics.dmm.co.jp/digital/video/ktkz00022/ktkz00022jp-2.jpg',\n",
       "  'thumb': 'https://pics.javcdn.pw/sample/6ia4_2.jpg'},\n",
       " {'full': 'https://pics.dmm.co.jp/digital/video/ktkz00022/ktkz00022jp-3.jpg',\n",
       "  'thumb': 'https://pics.javcdn.pw/sample/6ia4_3.jpg'},\n",
       " {'full': 'https://pics.dmm.co.jp/digital/video/ktkz00022/ktkz00022jp-4.jpg',\n",
       "  'thumb': 'https://pics.javcdn.pw/sample/6ia4_4.jpg'},\n",
       " {'full': 'https://pics.dmm.co.jp/digital/video/ktkz00022/ktkz00022jp-5.jpg',\n",
       "  'thumb': 'https://pics.javcdn.pw/sample/6ia4_5.jpg'},\n",
       " {'full': 'https://pics.dmm.co.jp/digital/video/ktkz00022/ktkz00022jp-6.jpg',\n",
       "  'thumb': 'https://pics.javcdn.pw/sample/6ia4_6.jpg'},\n",
       " {'full': 'https://pics.dmm.co.jp/digital/video/ktkz00022/ktkz00022jp-7.jpg',\n",
       "  'thumb': 'https://pics.javcdn.pw/sample/6ia4_7.jpg'},\n",
       " {'full': 'https://pics.dmm.co.jp/digital/video/ktkz00022/ktkz00022jp-8.jpg',\n",
       "  'thumb': 'https://pics.javcdn.pw/sample/6ia4_8.jpg'},\n",
       " {'full': 'https://pics.dmm.co.jp/digital/video/ktkz00022/ktkz00022jp-9.jpg',\n",
       "  'thumb': 'https://pics.javcdn.pw/sample/6ia4_9.jpg'},\n",
       " {'full': 'https://pics.dmm.co.jp/digital/video/ktkz00022/ktkz00022jp-10.jpg',\n",
       "  'thumb': 'https://pics.javcdn.pw/sample/6ia4_10.jpg'},\n",
       " {'full': 'https://pics.dmm.co.jp/digital/video/ktkz00022/ktkz00022jp-11.jpg',\n",
       "  'thumb': 'https://pics.javcdn.pw/sample/6ia4_11.jpg'},\n",
       " {'full': 'https://pics.dmm.co.jp/digital/video/ktkz00022/ktkz00022jp-12.jpg',\n",
       "  'thumb': 'https://pics.javcdn.pw/sample/6ia4_12.jpg'},\n",
       " {'full': 'https://pics.dmm.co.jp/digital/video/ktkz00022/ktkz00022jp-13.jpg',\n",
       "  'thumb': 'https://pics.javcdn.pw/sample/6ia4_13.jpg'},\n",
       " {'full': 'https://pics.dmm.co.jp/digital/video/ktkz00022/ktkz00022jp-14.jpg',\n",
       "  'thumb': 'https://pics.javcdn.pw/sample/6ia4_14.jpg'}]"
      ]
     },
     "execution_count": 6,
     "metadata": {},
     "output_type": "execute_result"
    }
   ],
   "source": [
    "PICS"
   ]
  },
  {
   "cell_type": "code",
   "execution_count": 7,
   "metadata": {},
   "outputs": [
    {
     "ename": "TypeError",
     "evalue": "'module' object is not callable",
     "output_type": "error",
     "traceback": [
      "\u001b[0;31m---------------------------------------------------------------------------\u001b[0m",
      "\u001b[0;31mTypeError\u001b[0m                                 Traceback (most recent call last)",
      "\u001b[0;32m<ipython-input-7-6079d664df1f>\u001b[0m in \u001b[0;36m<module>\u001b[0;34m()\u001b[0m\n\u001b[0;32m----> 1\u001b[0;31m \u001b[0mjson\u001b[0m\u001b[0;34m.\u001b[0m\u001b[0mencoder\u001b[0m\u001b[0;34m(\u001b[0m\u001b[0mPICS\u001b[0m\u001b[0;34m)\u001b[0m\u001b[0;34m\u001b[0m\u001b[0m\n\u001b[0m",
      "\u001b[0;31mTypeError\u001b[0m: 'module' object is not callable"
     ]
    }
   ],
   "source": [
    "json.encoder(PICS)"
   ]
  },
  {
   "cell_type": "code",
   "execution_count": 9,
   "metadata": {},
   "outputs": [
    {
     "ename": "TypeError",
     "evalue": "dump() missing 1 required positional argument: 'fp'",
     "output_type": "error",
     "traceback": [
      "\u001b[0;31m---------------------------------------------------------------------------\u001b[0m",
      "\u001b[0;31mTypeError\u001b[0m                                 Traceback (most recent call last)",
      "\u001b[0;32m<ipython-input-9-0c6a9d30772e>\u001b[0m in \u001b[0;36m<module>\u001b[0;34m()\u001b[0m\n\u001b[0;32m----> 1\u001b[0;31m \u001b[0mjson\u001b[0m\u001b[0;34m.\u001b[0m\u001b[0mdump\u001b[0m\u001b[0;34m(\u001b[0m\u001b[0mPICS\u001b[0m\u001b[0;34m)\u001b[0m\u001b[0;34m\u001b[0m\u001b[0m\n\u001b[0m",
      "\u001b[0;31mTypeError\u001b[0m: dump() missing 1 required positional argument: 'fp'"
     ]
    }
   ],
   "source": [
    "json.dump(PICS)"
   ]
  },
  {
   "cell_type": "code",
   "execution_count": null,
   "metadata": {},
   "outputs": [],
   "source": []
  }
 ],
 "metadata": {
  "kernelspec": {
   "display_name": "Python 3",
   "language": "python",
   "name": "python3"
  },
  "language_info": {
   "codemirror_mode": {
    "name": "ipython",
    "version": 3
   },
   "file_extension": ".py",
   "mimetype": "text/x-python",
   "name": "python",
   "nbconvert_exporter": "python",
   "pygments_lexer": "ipython3",
   "version": "3.6.3"
  }
 },
 "nbformat": 4,
 "nbformat_minor": 2
}
